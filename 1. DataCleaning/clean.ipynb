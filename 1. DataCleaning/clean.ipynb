{
 "cells": [
  {
   "cell_type": "code",
   "execution_count": 1,
   "metadata": {},
   "outputs": [
    {
     "data": {
      "text/html": [
       "<div>\n",
       "<style scoped>\n",
       "    .dataframe tbody tr th:only-of-type {\n",
       "        vertical-align: middle;\n",
       "    }\n",
       "\n",
       "    .dataframe tbody tr th {\n",
       "        vertical-align: top;\n",
       "    }\n",
       "\n",
       "    .dataframe thead th {\n",
       "        text-align: right;\n",
       "    }\n",
       "</style>\n",
       "<table border=\"1\" class=\"dataframe\">\n",
       "  <thead>\n",
       "    <tr style=\"text-align: right;\">\n",
       "      <th></th>\n",
       "      <th>title</th>\n",
       "      <th>duration</th>\n",
       "      <th>author</th>\n",
       "      <th>video_link</th>\n",
       "      <th>thumbnail</th>\n",
       "    </tr>\n",
       "  </thead>\n",
       "  <tbody>\n",
       "    <tr>\n",
       "      <th>0</th>\n",
       "      <td>Are Roberu NightMea burned out? What's to come...</td>\n",
       "      <td>02:15</td>\n",
       "      <td>Oboretai Writing ch.</td>\n",
       "      <td>https://www.youtube.com/watch?v=4D8dQQrPV88</td>\n",
       "      <td>https://i.ytimg.com/vi_webp/4D8dQQrPV88/mqdefa...</td>\n",
       "    </tr>\n",
       "    <tr>\n",
       "      <th>1</th>\n",
       "      <td>[ENG SUB/Hololive] Biboo is planning to spread...</td>\n",
       "      <td>01:11</td>\n",
       "      <td>The Arrow🎥 草 Clipper</td>\n",
       "      <td>https://www.youtube.com/watch?v=KEyTcjOmGVE</td>\n",
       "      <td>https://i.ytimg.com/vi_webp/KEyTcjOmGVE/mqdefa...</td>\n",
       "    </tr>\n",
       "    <tr>\n",
       "      <th>2</th>\n",
       "      <td>Watame &amp; Fauna Adorably Fight Their Language B...</td>\n",
       "      <td>02:40</td>\n",
       "      <td>Kiriku Translation</td>\n",
       "      <td>https://www.youtube.com/watch?v=laiKuMndc4A</td>\n",
       "      <td>https://i.ytimg.com/vi_webp/laiKuMndc4A/mqdefa...</td>\n",
       "    </tr>\n",
       "    <tr>\n",
       "      <th>3</th>\n",
       "      <td>Kiara Is Down Bad For Stellar Blade</td>\n",
       "      <td>06:04</td>\n",
       "      <td>VP Ch.</td>\n",
       "      <td>https://www.youtube.com/watch?v=TIjyU362SM8</td>\n",
       "      <td>https://i.ytimg.com/vi_webp/TIjyU362SM8/mqdefa...</td>\n",
       "    </tr>\n",
       "    <tr>\n",
       "      <th>4</th>\n",
       "      <td>Watame Keeps Saying FLAT and Made Fauna Misund...</td>\n",
       "      <td>01:07</td>\n",
       "      <td>Sashimi Clips</td>\n",
       "      <td>https://www.youtube.com/watch?v=WS4B7VWyD_A</td>\n",
       "      <td>https://i.ytimg.com/vi_webp/WS4B7VWyD_A/mqdefa...</td>\n",
       "    </tr>\n",
       "  </tbody>\n",
       "</table>\n",
       "</div>"
      ],
      "text/plain": [
       "                                               title duration  \\\n",
       "0  Are Roberu NightMea burned out? What's to come...    02:15   \n",
       "1  [ENG SUB/Hololive] Biboo is planning to spread...    01:11   \n",
       "2  Watame & Fauna Adorably Fight Their Language B...    02:40   \n",
       "3                Kiara Is Down Bad For Stellar Blade    06:04   \n",
       "4  Watame Keeps Saying FLAT and Made Fauna Misund...    01:07   \n",
       "\n",
       "                 author                                   video_link  \\\n",
       "0  Oboretai Writing ch.  https://www.youtube.com/watch?v=4D8dQQrPV88   \n",
       "1  The Arrow🎥 草 Clipper  https://www.youtube.com/watch?v=KEyTcjOmGVE   \n",
       "2    Kiriku Translation  https://www.youtube.com/watch?v=laiKuMndc4A   \n",
       "3                VP Ch.  https://www.youtube.com/watch?v=TIjyU362SM8   \n",
       "4         Sashimi Clips  https://www.youtube.com/watch?v=WS4B7VWyD_A   \n",
       "\n",
       "                                           thumbnail  \n",
       "0  https://i.ytimg.com/vi_webp/4D8dQQrPV88/mqdefa...  \n",
       "1  https://i.ytimg.com/vi_webp/KEyTcjOmGVE/mqdefa...  \n",
       "2  https://i.ytimg.com/vi_webp/laiKuMndc4A/mqdefa...  \n",
       "3  https://i.ytimg.com/vi_webp/TIjyU362SM8/mqdefa...  \n",
       "4  https://i.ytimg.com/vi_webp/WS4B7VWyD_A/mqdefa...  "
      ]
     },
     "execution_count": 1,
     "metadata": {},
     "output_type": "execute_result"
    }
   ],
   "source": [
    "import pandas as pd\n",
    "import matplotlib.pyplot as plt\n",
    "import seaborn as sns\n",
    "\n",
    "# Membaca file CSV\n",
    "file_path = \"holoclips_data.csv\"  # Ganti dengan path file Anda\n",
    "data = pd.read_csv(file_path)\n",
    "\n",
    "# Menampilkan 5 data pertama\n",
    "data.head()\n"
   ]
  },
  {
   "cell_type": "code",
   "execution_count": 2,
   "metadata": {},
   "outputs": [
    {
     "name": "stdout",
     "output_type": "stream",
     "text": [
      "<class 'pandas.core.frame.DataFrame'>\n",
      "RangeIndex: 97351 entries, 0 to 97350\n",
      "Data columns (total 5 columns):\n",
      " #   Column      Non-Null Count  Dtype \n",
      "---  ------      --------------  ----- \n",
      " 0   title       97333 non-null  object\n",
      " 1   duration    97350 non-null  object\n",
      " 2   author      97350 non-null  object\n",
      " 3   video_link  97351 non-null  object\n",
      " 4   thumbnail   97351 non-null  object\n",
      "dtypes: object(5)\n",
      "memory usage: 3.7+ MB\n"
     ]
    }
   ],
   "source": [
    "# Informasi umum dataset\n",
    "data.info()\n"
   ]
  },
  {
   "cell_type": "code",
   "execution_count": 3,
   "metadata": {},
   "outputs": [
    {
     "data": {
      "text/html": [
       "<div>\n",
       "<style scoped>\n",
       "    .dataframe tbody tr th:only-of-type {\n",
       "        vertical-align: middle;\n",
       "    }\n",
       "\n",
       "    .dataframe tbody tr th {\n",
       "        vertical-align: top;\n",
       "    }\n",
       "\n",
       "    .dataframe thead th {\n",
       "        text-align: right;\n",
       "    }\n",
       "</style>\n",
       "<table border=\"1\" class=\"dataframe\">\n",
       "  <thead>\n",
       "    <tr style=\"text-align: right;\">\n",
       "      <th></th>\n",
       "      <th>title</th>\n",
       "      <th>duration</th>\n",
       "      <th>author</th>\n",
       "      <th>video_link</th>\n",
       "      <th>thumbnail</th>\n",
       "    </tr>\n",
       "  </thead>\n",
       "  <tbody>\n",
       "    <tr>\n",
       "      <th>count</th>\n",
       "      <td>97333</td>\n",
       "      <td>97350</td>\n",
       "      <td>97350</td>\n",
       "      <td>97351</td>\n",
       "      <td>97351</td>\n",
       "    </tr>\n",
       "    <tr>\n",
       "      <th>unique</th>\n",
       "      <td>97198</td>\n",
       "      <td>2113</td>\n",
       "      <td>466</td>\n",
       "      <td>97327</td>\n",
       "      <td>97327</td>\n",
       "    </tr>\n",
       "    <tr>\n",
       "      <th>top</th>\n",
       "      <td>The BEST Hololive EN Moments From The Last Wee...</td>\n",
       "      <td>00:31</td>\n",
       "      <td>Vtube Tengoku</td>\n",
       "      <td>https://www.youtube.com/watch?v=aZTCF8-j3D4</td>\n",
       "      <td>https://i.ytimg.com/vi_webp/aZTCF8-j3D4/mqdefa...</td>\n",
       "    </tr>\n",
       "    <tr>\n",
       "      <th>freq</th>\n",
       "      <td>9</td>\n",
       "      <td>951</td>\n",
       "      <td>3829</td>\n",
       "      <td>2</td>\n",
       "      <td>2</td>\n",
       "    </tr>\n",
       "  </tbody>\n",
       "</table>\n",
       "</div>"
      ],
      "text/plain": [
       "                                                    title duration  \\\n",
       "count                                               97333    97350   \n",
       "unique                                              97198     2113   \n",
       "top     The BEST Hololive EN Moments From The Last Wee...    00:31   \n",
       "freq                                                    9      951   \n",
       "\n",
       "               author                                   video_link  \\\n",
       "count           97350                                        97351   \n",
       "unique            466                                        97327   \n",
       "top     Vtube Tengoku  https://www.youtube.com/watch?v=aZTCF8-j3D4   \n",
       "freq             3829                                            2   \n",
       "\n",
       "                                                thumbnail  \n",
       "count                                               97351  \n",
       "unique                                              97327  \n",
       "top     https://i.ytimg.com/vi_webp/aZTCF8-j3D4/mqdefa...  \n",
       "freq                                                    2  "
      ]
     },
     "execution_count": 3,
     "metadata": {},
     "output_type": "execute_result"
    }
   ],
   "source": [
    "# Statistik deskriptif\n",
    "data.describe(include=\"all\")\n"
   ]
  },
  {
   "cell_type": "code",
   "execution_count": 4,
   "metadata": {},
   "outputs": [],
   "source": [
    "# Fungsi untuk mengonversi durasi ke detik\n",
    "def duration_to_seconds(duration):\n",
    "    if pd.isna(duration):  # Tangani nilai NaN\n",
    "        return None\n",
    "    try:\n",
    "        duration = str(duration)  # Pastikan nilai berupa string\n",
    "        parts = duration.split(':')\n",
    "        if len(parts) == 2:  # Format MM:SS\n",
    "            minutes = int(parts[0])\n",
    "            seconds = int(parts[1])\n",
    "            return minutes * 60 + seconds\n",
    "        elif len(parts) == 3:  # Format HH:MM:SS\n",
    "            hours = int(parts[0])\n",
    "            minutes = int(parts[1])\n",
    "            seconds = int(parts[2])\n",
    "            return hours * 3600 + minutes * 60 + seconds\n",
    "    except ValueError:\n",
    "        return None\n"
   ]
  },
  {
   "cell_type": "code",
   "execution_count": 5,
   "metadata": {},
   "outputs": [
    {
     "name": "stdout",
     "output_type": "stream",
     "text": [
      "Durasi maksimum dalam detik: 86399.0 detik\n",
      "Durasi minimum dalam detik: 0.0 detik\n"
     ]
    }
   ],
   "source": [
    "# Pastikan kolom durasi sudah dikonversi ke detik\n",
    "data[\"duration_seconds\"] = data[\"duration\"].apply(duration_to_seconds)\n",
    "\n",
    "# Cek durasi maksimum dan minimum dalam detik\n",
    "max_duration_sec = data[\"duration_seconds\"].max()\n",
    "min_duration_sec = data[\"duration_seconds\"].min()\n",
    "\n",
    "print(f\"Durasi maksimum dalam detik: {max_duration_sec} detik\")\n",
    "print(f\"Durasi minimum dalam detik: {min_duration_sec} detik\")\n"
   ]
  },
  {
   "cell_type": "code",
   "execution_count": 6,
   "metadata": {},
   "outputs": [
    {
     "data": {
      "text/html": [
       "<div>\n",
       "<style scoped>\n",
       "    .dataframe tbody tr th:only-of-type {\n",
       "        vertical-align: middle;\n",
       "    }\n",
       "\n",
       "    .dataframe tbody tr th {\n",
       "        vertical-align: top;\n",
       "    }\n",
       "\n",
       "    .dataframe thead th {\n",
       "        text-align: right;\n",
       "    }\n",
       "</style>\n",
       "<table border=\"1\" class=\"dataframe\">\n",
       "  <thead>\n",
       "    <tr style=\"text-align: right;\">\n",
       "      <th></th>\n",
       "      <th>title</th>\n",
       "      <th>duration</th>\n",
       "      <th>author</th>\n",
       "      <th>video_link</th>\n",
       "      <th>thumbnail</th>\n",
       "      <th>duration_seconds</th>\n",
       "    </tr>\n",
       "  </thead>\n",
       "  <tbody>\n",
       "    <tr>\n",
       "      <th>0</th>\n",
       "      <td>Are Roberu NightMea burned out? What's to come...</td>\n",
       "      <td>02:15</td>\n",
       "      <td>Oboretai Writing ch.</td>\n",
       "      <td>https://www.youtube.com/watch?v=4D8dQQrPV88</td>\n",
       "      <td>https://i.ytimg.com/vi_webp/4D8dQQrPV88/mqdefa...</td>\n",
       "      <td>135.0</td>\n",
       "    </tr>\n",
       "    <tr>\n",
       "      <th>1</th>\n",
       "      <td>[ENG SUB/Hololive] Biboo is planning to spread...</td>\n",
       "      <td>01:11</td>\n",
       "      <td>The Arrow🎥 草 Clipper</td>\n",
       "      <td>https://www.youtube.com/watch?v=KEyTcjOmGVE</td>\n",
       "      <td>https://i.ytimg.com/vi_webp/KEyTcjOmGVE/mqdefa...</td>\n",
       "      <td>71.0</td>\n",
       "    </tr>\n",
       "    <tr>\n",
       "      <th>2</th>\n",
       "      <td>Watame &amp; Fauna Adorably Fight Their Language B...</td>\n",
       "      <td>02:40</td>\n",
       "      <td>Kiriku Translation</td>\n",
       "      <td>https://www.youtube.com/watch?v=laiKuMndc4A</td>\n",
       "      <td>https://i.ytimg.com/vi_webp/laiKuMndc4A/mqdefa...</td>\n",
       "      <td>160.0</td>\n",
       "    </tr>\n",
       "    <tr>\n",
       "      <th>3</th>\n",
       "      <td>Kiara Is Down Bad For Stellar Blade</td>\n",
       "      <td>06:04</td>\n",
       "      <td>VP Ch.</td>\n",
       "      <td>https://www.youtube.com/watch?v=TIjyU362SM8</td>\n",
       "      <td>https://i.ytimg.com/vi_webp/TIjyU362SM8/mqdefa...</td>\n",
       "      <td>364.0</td>\n",
       "    </tr>\n",
       "    <tr>\n",
       "      <th>4</th>\n",
       "      <td>Watame Keeps Saying FLAT and Made Fauna Misund...</td>\n",
       "      <td>01:07</td>\n",
       "      <td>Sashimi Clips</td>\n",
       "      <td>https://www.youtube.com/watch?v=WS4B7VWyD_A</td>\n",
       "      <td>https://i.ytimg.com/vi_webp/WS4B7VWyD_A/mqdefa...</td>\n",
       "      <td>67.0</td>\n",
       "    </tr>\n",
       "  </tbody>\n",
       "</table>\n",
       "</div>"
      ],
      "text/plain": [
       "                                               title duration  \\\n",
       "0  Are Roberu NightMea burned out? What's to come...    02:15   \n",
       "1  [ENG SUB/Hololive] Biboo is planning to spread...    01:11   \n",
       "2  Watame & Fauna Adorably Fight Their Language B...    02:40   \n",
       "3                Kiara Is Down Bad For Stellar Blade    06:04   \n",
       "4  Watame Keeps Saying FLAT and Made Fauna Misund...    01:07   \n",
       "\n",
       "                 author                                   video_link  \\\n",
       "0  Oboretai Writing ch.  https://www.youtube.com/watch?v=4D8dQQrPV88   \n",
       "1  The Arrow🎥 草 Clipper  https://www.youtube.com/watch?v=KEyTcjOmGVE   \n",
       "2    Kiriku Translation  https://www.youtube.com/watch?v=laiKuMndc4A   \n",
       "3                VP Ch.  https://www.youtube.com/watch?v=TIjyU362SM8   \n",
       "4         Sashimi Clips  https://www.youtube.com/watch?v=WS4B7VWyD_A   \n",
       "\n",
       "                                           thumbnail  duration_seconds  \n",
       "0  https://i.ytimg.com/vi_webp/4D8dQQrPV88/mqdefa...             135.0  \n",
       "1  https://i.ytimg.com/vi_webp/KEyTcjOmGVE/mqdefa...              71.0  \n",
       "2  https://i.ytimg.com/vi_webp/laiKuMndc4A/mqdefa...             160.0  \n",
       "3  https://i.ytimg.com/vi_webp/TIjyU362SM8/mqdefa...             364.0  \n",
       "4  https://i.ytimg.com/vi_webp/WS4B7VWyD_A/mqdefa...              67.0  "
      ]
     },
     "execution_count": 6,
     "metadata": {},
     "output_type": "execute_result"
    }
   ],
   "source": [
    "# Konversi durasi ke dalam detik\n",
    "data[\"duration_seconds\"] = data[\"duration\"].apply(duration_to_seconds)\n",
    "\n",
    "# Menampilkan 5 data pertama setelah konversi\n",
    "data.head()"
   ]
  },
  {
   "cell_type": "code",
   "execution_count": 7,
   "metadata": {},
   "outputs": [
    {
     "data": {
      "text/plain": [
       "count    97350.000000\n",
       "mean       201.332234\n",
       "std       1356.908806\n",
       "min          0.000000\n",
       "25%         59.000000\n",
       "50%        100.000000\n",
       "75%        183.000000\n",
       "max      86399.000000\n",
       "Name: duration_seconds, dtype: float64"
      ]
     },
     "execution_count": 7,
     "metadata": {},
     "output_type": "execute_result"
    }
   ],
   "source": [
    "# Cek statistik durasi\n",
    "data[\"duration_seconds\"].describe()\n"
   ]
  },
  {
   "cell_type": "code",
   "execution_count": 8,
   "metadata": {},
   "outputs": [
    {
     "name": "stdout",
     "output_type": "stream",
     "text": [
      "Data berhasil dibersihkan dan disimpan ke 'data_cleaned_140_holoclip.csv'\n"
     ]
    }
   ],
   "source": [
    "# Filter data berdasarkan durasi (hanya yang antara 10 detik dan 210 detik)\n",
    "data_cleaned = data[(data[\"duration_seconds\"] >= 10) & (data[\"duration_seconds\"] <= 140)]\n",
    "\n",
    "# Hapus kolom 'duration_seconds' setelah filtering\n",
    "data_cleaned = data_cleaned.drop(columns=[\"duration_seconds\"])\n",
    "\n",
    "# Simpan data yang sudah dibersihkan ke file baru\n",
    "cleaned_file_path = \"data_cleaned_140_holoclip.csv\"\n",
    "data_cleaned.to_csv(cleaned_file_path, index=False)\n",
    "\n",
    "print(f\"Data berhasil dibersihkan dan disimpan ke '{cleaned_file_path}'\")\n"
   ]
  },
  {
   "cell_type": "code",
   "execution_count": null,
   "metadata": {},
   "outputs": [],
   "source": []
  }
 ],
 "metadata": {
  "kernelspec": {
   "display_name": "Python 3",
   "language": "python",
   "name": "python3"
  },
  "language_info": {
   "codemirror_mode": {
    "name": "ipython",
    "version": 3
   },
   "file_extension": ".py",
   "mimetype": "text/x-python",
   "name": "python",
   "nbconvert_exporter": "python",
   "pygments_lexer": "ipython3",
   "version": "3.10.0"
  }
 },
 "nbformat": 4,
 "nbformat_minor": 2
}
